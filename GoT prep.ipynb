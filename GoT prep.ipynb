{
 "cells": [
  {
   "cell_type": "code",
   "execution_count": 1,
   "outputs": [],
   "source": [
    "import networkx as nx\n",
    "import pandas as pd\n",
    "import numpy as np\n",
    "import matplotlib.pyplot as plt\n",
    "%matplotlib inline"
   ],
   "metadata": {
    "collapsed": false,
    "ExecuteTime": {
     "end_time": "2023-06-21T19:11:03.431049Z",
     "start_time": "2023-06-21T19:11:03.383711Z"
    }
   }
  },
  {
   "cell_type": "code",
   "execution_count": 2,
   "id": "605f67f0-2de1-4639-b2f8-2ed424b9aa7b",
   "metadata": {
    "ExecuteTime": {
     "end_time": "2023-06-21T19:11:03.436413Z",
     "start_time": "2023-06-21T19:11:03.431640Z"
    }
   },
   "outputs": [],
   "source": [
    "d1=pd.read_csv('data/book1.csv')"
   ]
  },
  {
   "cell_type": "code",
   "execution_count": 3,
   "id": "c271f4a0-f2a5-4d14-bf4a-7893fcc11606",
   "metadata": {
    "ExecuteTime": {
     "end_time": "2023-06-21T19:11:03.444911Z",
     "start_time": "2023-06-21T19:11:03.439386Z"
    }
   },
   "outputs": [
    {
     "data": {
      "text/plain": "                            Source              Target        Type  weight  \\\n0                   Addam-Marbrand     Jaime-Lannister  Undirected       3   \n1                   Addam-Marbrand     Tywin-Lannister  Undirected       6   \n2                Aegon-I-Targaryen  Daenerys-Targaryen  Undirected       5   \n3                Aegon-I-Targaryen        Eddard-Stark  Undirected       4   \n4  Aemon-Targaryen-(Maester-Aemon)      Alliser-Thorne  Undirected       4   \n\n   book  \n0     1  \n1     1  \n2     1  \n3     1  \n4     1  ",
      "text/html": "<div>\n<style scoped>\n    .dataframe tbody tr th:only-of-type {\n        vertical-align: middle;\n    }\n\n    .dataframe tbody tr th {\n        vertical-align: top;\n    }\n\n    .dataframe thead th {\n        text-align: right;\n    }\n</style>\n<table border=\"1\" class=\"dataframe\">\n  <thead>\n    <tr style=\"text-align: right;\">\n      <th></th>\n      <th>Source</th>\n      <th>Target</th>\n      <th>Type</th>\n      <th>weight</th>\n      <th>book</th>\n    </tr>\n  </thead>\n  <tbody>\n    <tr>\n      <th>0</th>\n      <td>Addam-Marbrand</td>\n      <td>Jaime-Lannister</td>\n      <td>Undirected</td>\n      <td>3</td>\n      <td>1</td>\n    </tr>\n    <tr>\n      <th>1</th>\n      <td>Addam-Marbrand</td>\n      <td>Tywin-Lannister</td>\n      <td>Undirected</td>\n      <td>6</td>\n      <td>1</td>\n    </tr>\n    <tr>\n      <th>2</th>\n      <td>Aegon-I-Targaryen</td>\n      <td>Daenerys-Targaryen</td>\n      <td>Undirected</td>\n      <td>5</td>\n      <td>1</td>\n    </tr>\n    <tr>\n      <th>3</th>\n      <td>Aegon-I-Targaryen</td>\n      <td>Eddard-Stark</td>\n      <td>Undirected</td>\n      <td>4</td>\n      <td>1</td>\n    </tr>\n    <tr>\n      <th>4</th>\n      <td>Aemon-Targaryen-(Maester-Aemon)</td>\n      <td>Alliser-Thorne</td>\n      <td>Undirected</td>\n      <td>4</td>\n      <td>1</td>\n    </tr>\n  </tbody>\n</table>\n</div>"
     },
     "execution_count": 3,
     "metadata": {},
     "output_type": "execute_result"
    }
   ],
   "source": [
    "d1.head()"
   ]
  },
  {
   "cell_type": "code",
   "execution_count": 4,
   "id": "21079043-0bd0-4d24-8720-d3757bdcd1e7",
   "metadata": {
    "ExecuteTime": {
     "end_time": "2023-06-21T19:11:12.401596Z",
     "start_time": "2023-06-21T19:11:12.391853Z"
    }
   },
   "outputs": [
    {
     "name": "stdout",
     "output_type": "stream",
     "text": [
      "Robert-Baratheon    41\n",
      "Tyrion-Lannister    41\n",
      "Sansa-Stark         31\n",
      "Robb-Stark          22\n",
      "Tywin-Lannister     20\n",
      "                    ..\n",
      "Desmond              1\n",
      "Hosteen-Frey         1\n",
      "Jommo                1\n",
      "Grenn                1\n",
      "Ulf-son-of-Umar      1\n",
      "Name: Target, Length: 143, dtype: int64\n"
     ]
    }
   ],
   "source": [
    "print(d1['Target'].value_counts())"
   ]
  },
  {
   "cell_type": "code",
   "execution_count": 5,
   "id": "c52836a7-aa60-4cf5-b746-9b6ff8e09f00",
   "metadata": {
    "ExecuteTime": {
     "end_time": "2023-06-21T19:11:13.214111Z",
     "start_time": "2023-06-21T19:11:13.208659Z"
    }
   },
   "outputs": [],
   "source": [
    "b1 = nx.Graph()\n"
   ]
  },
  {
   "cell_type": "code",
   "execution_count": 6,
   "id": "83a20b57-8832-4c54-bd9c-9c62942d7ea8",
   "metadata": {
    "ExecuteTime": {
     "end_time": "2023-06-21T19:11:16.328930Z",
     "start_time": "2023-06-21T19:11:16.326589Z"
    }
   },
   "outputs": [],
   "source": [
    "for _, edge in d1.iterrows():\n",
    "    b1.add_edge(edge['Source'], edge['Target'], weight=edge['weight'])"
   ]
  },
  {
   "cell_type": "code",
   "execution_count": 7,
   "id": "4299ff31-89e8-4c2f-9aa5-6e437372586c",
   "metadata": {
    "ExecuteTime": {
     "end_time": "2023-06-21T19:11:17.291023Z",
     "start_time": "2023-06-21T19:11:17.286270Z"
    }
   },
   "outputs": [
    {
     "name": "stdout",
     "output_type": "stream",
     "text": [
      "Total number of nodes:  187\n"
     ]
    }
   ],
   "source": [
    "print(\"Total number of nodes: \", int(b1.number_of_nodes())) "
   ]
  },
  {
   "cell_type": "code",
   "execution_count": 8,
   "id": "52c0d7e9-9013-4320-8a38-0fe118580bec",
   "metadata": {
    "ExecuteTime": {
     "end_time": "2023-06-21T19:11:18.579556Z",
     "start_time": "2023-06-21T19:11:18.574604Z"
    }
   },
   "outputs": [
    {
     "name": "stdout",
     "output_type": "stream",
     "text": [
      "Total number of edges:  684\n"
     ]
    }
   ],
   "source": [
    "print(\"Total number of edges: \", int(b1.number_of_edges())) "
   ]
  },
  {
   "cell_type": "code",
   "execution_count": null,
   "id": "788142e2-b0d7-4634-9c31-6d3a22f33e83",
   "metadata": {
    "is_executing": true,
    "ExecuteTime": {
     "start_time": "2023-06-21T19:11:19.713980Z"
    }
   },
   "outputs": [],
   "source": [
    "plt.figure(figsize =(20, 20)) \n",
    "nx.draw(b1, with_labels= True)"
   ]
  },
  {
   "cell_type": "code",
   "execution_count": null,
   "id": "f562b553-a7b9-46fb-8437-a2083363ec74",
   "metadata": {
    "is_executing": true
   },
   "outputs": [],
   "source": [
    "# Calculating the degree centrality of book 1\n",
    "deg_cen_book1 = nx.degree_centrality(b1)\n",
    "\n",
    "# Sorting the dictionaries according to their degree centrality and storing the top 5\n",
    "sorted_deg_cen_book1 =  sorted(deg_cen_book1.items(), key=lambda x:x[1], reverse=True)[0:5]\n",
    "\n",
    "# Printing out the top 10 of book1 and book5\n",
    "for i in range(len(sorted_deg_cen_book1)):\n",
    "    print(sorted_deg_cen_book1[i][0])# Printing out the top 5 of book1"
   ]
  },
  {
   "cell_type": "code",
   "execution_count": 57,
   "id": "f3a41fab-b792-461b-b487-4ef9abe9601e",
   "metadata": {
    "ExecuteTime": {
     "end_time": "2023-06-21T19:01:40.007876Z",
     "start_time": "2023-06-21T19:01:39.999053Z"
    }
   },
   "outputs": [
    {
     "data": {
      "text/plain": "[('Eddard-Stark', 0.3548387096774194),\n ('Robert-Baratheon', 0.2688172043010753),\n ('Tyrion-Lannister', 0.24731182795698928),\n ('Catelyn-Stark', 0.23118279569892475),\n ('Jon-Snow', 0.19892473118279572)]"
     },
     "execution_count": 57,
     "metadata": {},
     "output_type": "execute_result"
    }
   ],
   "source": [
    "sorted_deg_cen_book1"
   ]
  },
  {
   "cell_type": "code",
   "execution_count": 58,
   "id": "07ed36fa-16d3-4ce9-b7d0-0a43c236204d",
   "metadata": {
    "ExecuteTime": {
     "end_time": "2023-06-21T19:01:40.718490Z",
     "start_time": "2023-06-21T19:01:40.711447Z"
    }
   },
   "outputs": [
    {
     "data": {
      "text/plain": "{'Addam-Marbrand': 0.010752688172043012,\n 'Jaime-Lannister': 0.15591397849462366,\n 'Tywin-Lannister': 0.11827956989247312,\n 'Aegon-I-Targaryen': 0.010752688172043012,\n 'Daenerys-Targaryen': 0.11290322580645162,\n 'Eddard-Stark': 0.3548387096774194,\n 'Aemon-Targaryen-(Maester-Aemon)': 0.03763440860215054,\n 'Alliser-Thorne': 0.05376344086021506,\n 'Bowen-Marsh': 0.02688172043010753,\n 'Chett': 0.016129032258064516,\n 'Clydas': 0.005376344086021506,\n 'Jeor-Mormont': 0.06989247311827958,\n 'Jon-Snow': 0.19892473118279572,\n 'Samwell-Tarly': 0.06451612903225806,\n 'Aerys-II-Targaryen': 0.03225806451612903,\n 'Brandon-Stark': 0.03225806451612903,\n 'Gerold-Hightower': 0.02688172043010753,\n 'Jon-Arryn': 0.08064516129032259,\n 'Robert-Baratheon': 0.2688172043010753,\n 'Aggo': 0.03225806451612903,\n 'Drogo': 0.10215053763440861,\n 'Jhogo': 0.03225806451612903,\n 'Jorah-Mormont': 0.06989247311827958,\n 'Quaro': 0.02688172043010753,\n 'Rakharo': 0.02688172043010753,\n 'Albett': 0.016129032258064516,\n 'Halder': 0.043010752688172046,\n 'Rast': 0.03225806451612903,\n 'Grenn': 0.03763440860215054,\n 'Pypar': 0.03763440860215054,\n 'Tyrion-Lannister': 0.24731182795698928,\n 'Alyn': 0.02688172043010753,\n 'Harwin': 0.021505376344086023,\n 'Jory-Cassel': 0.11290322580645162,\n 'Tomard': 0.03763440860215054,\n 'Arthur-Dayne': 0.005376344086021506,\n 'Arya-Stark': 0.14516129032258066,\n 'Benjen-Stark': 0.07526881720430108,\n 'Bran-Stark': 0.17204301075268819,\n 'Catelyn-Stark': 0.23118279569892475,\n 'Cersei-Lannister': 0.16129032258064518,\n 'Desmond': 0.010752688172043012,\n 'Ilyn-Payne': 0.048387096774193554,\n 'Jeyne-Poole': 0.03225806451612903,\n 'Joffrey-Baratheon': 0.16129032258064518,\n 'Meryn-Trant': 0.048387096774193554,\n 'Mordane': 0.05913978494623656,\n 'Mycah': 0.02688172043010753,\n 'Myrcella-Baratheon': 0.03763440860215054,\n 'Petyr-Baelish': 0.13978494623655915,\n 'Rickon-Stark': 0.048387096774193554,\n 'Robb-Stark': 0.18817204301075272,\n 'Rodrik-Cassel': 0.09677419354838711,\n 'Sandor-Clegane': 0.08602150537634409,\n 'Sansa-Stark': 0.18817204301075272,\n 'Syrio-Forel': 0.016129032258064516,\n 'Tommen-Baratheon': 0.043010752688172046,\n 'Vayon-Poole': 0.02688172043010753,\n 'Yoren': 0.03763440860215054,\n 'Arys-Oakheart': 0.005376344086021506,\n 'Balon-Greyjoy': 0.010752688172043012,\n 'Balon-Swann': 0.010752688172043012,\n 'Renly-Baratheon': 0.09677419354838711,\n 'Barristan-Selmy': 0.07526881720430108,\n 'Boros-Blount': 0.02688172043010753,\n 'Pycelle': 0.07526881720430108,\n 'Varys': 0.0913978494623656,\n 'Jaremy-Rykker': 0.021505376344086023,\n 'Luwin': 0.09677419354838711,\n 'Mance-Rayder': 0.005376344086021506,\n 'Theon-Greyjoy': 0.08064516129032259,\n 'Waymar-Royce': 0.016129032258064516,\n 'Beric-Dondarrion': 0.03225806451612903,\n 'Gregor-Clegane': 0.06451612903225806,\n 'Loras-Tyrell': 0.07526881720430108,\n 'Thoros-of-Myr': 0.005376344086021506,\n 'Hali': 0.005376344086021506,\n 'Hallis-Mollen': 0.02688172043010753,\n 'Hodor': 0.021505376344086023,\n 'Hullen': 0.03225806451612903,\n 'Joseth': 0.010752688172043012,\n 'Nan': 0.021505376344086023,\n 'Osha': 0.016129032258064516,\n 'Rickard-Karstark': 0.05376344086021506,\n 'Rickard-Stark': 0.010752688172043012,\n 'Stiv': 0.010752688172043012,\n 'Lyanna-Stark': 0.021505376344086023,\n 'Bronn': 0.05376344086021506,\n 'Chiggen': 0.016129032258064516,\n 'Marillion': 0.02688172043010753,\n 'Shae': 0.010752688172043012,\n 'Shagga': 0.03225806451612903,\n 'Vardis-Egen': 0.03225806451612903,\n 'Willis-Wode': 0.03225806451612903,\n 'Brynden-Tully': 0.05913978494623656,\n 'Edmure-Tully': 0.05913978494623656,\n 'Hoster-Tully': 0.02688172043010753,\n 'Lysa-Arryn': 0.08064516129032259,\n 'Nestor-Royce': 0.010752688172043012,\n 'Walder-Frey': 0.03763440860215054,\n 'Colemon': 0.010752688172043012,\n 'Donnel-Waynwood': 0.005376344086021506,\n 'Eon-Hunter': 0.016129032258064516,\n 'Jon-Umber-(Greatjon)': 0.043010752688172046,\n 'Masha-Heddle': 0.005376344086021506,\n 'Moreo-Tumitis': 0.005376344086021506,\n 'Mya-Stone': 0.005376344086021506,\n 'Mychel-Redfort': 0.005376344086021506,\n 'Robert-Arryn': 0.016129032258064516,\n 'Stevron-Frey': 0.010752688172043012,\n 'Tytos-Blackwood': 0.016129032258064516,\n 'Wendel-Manderly': 0.010752688172043012,\n 'Cayn': 0.016129032258064516,\n 'Janos-Slynt': 0.03763440860215054,\n 'Stannis-Baratheon': 0.06451612903225806,\n 'Chella': 0.005376344086021506,\n 'Clement-Piper': 0.005376344086021506,\n 'Karyl-Vance': 0.016129032258064516,\n 'Cohollo': 0.021505376344086023,\n 'Haggo': 0.03225806451612903,\n 'Qotho': 0.03763440860215054,\n 'Conn': 0.016129032258064516,\n 'Coratt': 0.005376344086021506,\n 'Doreah': 0.03225806451612903,\n 'Eroeh': 0.005376344086021506,\n 'Illyrio-Mopatis': 0.03225806451612903,\n 'Irri': 0.043010752688172046,\n 'Jhiqui': 0.02688172043010753,\n 'Mirri-Maz-Duur': 0.03225806451612903,\n 'Rhaegar-Targaryen': 0.03763440860215054,\n 'Viserys-Targaryen': 0.043010752688172046,\n 'Danwell-Frey': 0.016129032258064516,\n 'Hosteen-Frey': 0.010752688172043012,\n 'Jared-Frey': 0.010752688172043012,\n 'Dareon': 0.005376344086021506,\n 'Daryn-Hornwood': 0.010752688172043012,\n 'Torrhen-Karstark': 0.016129032258064516,\n 'Dolf': 0.005376344086021506,\n 'Donal-Noye': 0.005376344086021506,\n 'Jommo': 0.010752688172043012,\n 'Ogo': 0.016129032258064516,\n 'Rhaego': 0.005376344086021506,\n 'Dywen': 0.005376344086021506,\n 'Galbart-Glover': 0.03225806451612903,\n 'Gendry': 0.005376344086021506,\n 'High-Septon-(fat_one)': 0.010752688172043012,\n 'Howland-Reed': 0.005376344086021506,\n 'Jacks': 0.005376344086021506,\n 'Joss': 0.005376344086021506,\n 'Marq-Piper': 0.02688172043010753,\n 'Porther': 0.005376344086021506,\n 'Raymun-Darry': 0.010752688172043012,\n 'Tobho-Mott': 0.005376344086021506,\n 'Tregar': 0.005376344086021506,\n 'Varly': 0.005376344086021506,\n 'Wyl-(guard)': 0.021505376344086023,\n 'Wylla': 0.005376344086021506,\n 'Fogo': 0.005376344086021506,\n 'Roose-Bolton': 0.02688172043010753,\n 'Gared': 0.016129032258064516,\n 'Will-(prologue)': 0.010752688172043012,\n 'Oswell-Whent': 0.005376344086021506,\n 'Todder': 0.021505376344086023,\n 'Gunthor-son-of-Gurn': 0.005376344086021506,\n 'Harys-Swyft': 0.005376344086021506,\n 'Heward': 0.010752688172043012,\n 'Hobb': 0.005376344086021506,\n 'Hugh': 0.005376344086021506,\n 'Jafer-Flowers': 0.005376344086021506,\n 'Kevan-Lannister': 0.016129032258064516,\n 'Matthar': 0.005376344086021506,\n 'Othor': 0.005376344086021506,\n 'Maege-Mormont': 0.010752688172043012,\n 'Jonos-Bracken': 0.005376344086021506,\n 'Jyck': 0.010752688172043012,\n 'Morrec': 0.010752688172043012,\n 'Kurleket': 0.005376344086021506,\n 'Lancel-Lannister': 0.005376344086021506,\n 'Leo-Lefford': 0.005376344086021506,\n 'Mace-Tyrell': 0.010752688172043012,\n 'Lyn-Corbray': 0.005376344086021506,\n 'Paxter-Redwyne': 0.005376344086021506,\n 'Maegor-I-Targaryen': 0.005376344086021506,\n 'Mord': 0.005376344086021506,\n 'Randyll-Tarly': 0.005376344086021506,\n 'Timett': 0.010752688172043012,\n 'Ulf-son-of-Umar': 0.005376344086021506}"
     },
     "execution_count": 58,
     "metadata": {},
     "output_type": "execute_result"
    }
   ],
   "source": [
    "deg_cen_book1"
   ]
  },
  {
   "cell_type": "code",
   "execution_count": 59,
   "id": "07fe17b1-122a-40eb-ac37-be49565524e8",
   "metadata": {
    "ExecuteTime": {
     "end_time": "2023-06-21T19:01:41.533048Z",
     "start_time": "2023-06-21T19:01:41.265593Z"
    }
   },
   "outputs": [
    {
     "name": "stdout",
     "output_type": "stream",
     "text": [
      "          0         1         2         3\n",
      "0  1.000000  0.868989  0.930315  0.664590\n",
      "1  0.868989  1.000000  0.796965  0.578166\n",
      "2  0.930315  0.796965  1.000000  0.838933\n",
      "3  0.664590  0.578166  0.838933  1.000000\n"
     ]
    },
    {
     "data": {
      "text/plain": "<Figure size 640x480 with 2 Axes>",
      "image/png": "[encoded data removed]"
     },
     "metadata": {},
     "output_type": "display_data"
    }
   ],
   "source": [
    "import seaborn  as sns\n",
    "measures = [nx.eigenvector_centrality(b1), \n",
    "            nx.closeness_centrality(b1), \n",
    "            nx.degree_centrality(b1),\n",
    "           nx.betweenness_centrality(b1)]\n",
    "\n",
    "# Creating the correlation DataFrame\n",
    "cor5 = pd.DataFrame.from_records(measures)\n",
    "\n",
    "# Calculating the correlation\n",
    "corr5=cor5.T.corr()\n",
    "print(corr5)\n",
    "ax = sns.heatmap(\n",
    "    corr5, \n",
    "    vmin=-1, vmax=1, center=0,\n",
    "    cmap=sns.diverging_palette(20, 220, n=256),\n",
    "    square=True\n",
    ")\n",
    "ax.set_xticklabels(\n",
    "    ax.get_xticklabels(),\n",
    "    rotation=360,\n",
    "    horizontalalignment='right'\n",
    ");"
   ]
  },
  {
   "cell_type": "code",
   "execution_count": 61,
   "id": "b842675c-b98e-4405-899f-e45dd469b30f",
   "metadata": {
    "ExecuteTime": {
     "end_time": "2023-06-21T19:06:41.115919Z",
     "start_time": "2023-06-21T19:06:41.110899Z"
    }
   },
   "outputs": [],
   "source": [
    "def process_book(book_number):\n",
    "    # Read the data\n",
    "    data = pd.read_csv(f'data/book{book_number}.csv')\n",
    "\n",
    "    # Create a graph\n",
    "    graph = nx.Graph()\n",
    "    for _, edge in data.iterrows():\n",
    "        graph.add_edge(edge['Source'], edge['Target'], weight=edge['weight'])\n",
    "\n",
    "    # Calculate the degree centrality\n",
    "    deg_cen = nx.degree_centrality(graph)\n",
    "\n",
    "    # Filter the selected characters\n",
    "    selected_characters = ['Jon-Snow', 'Daenerys-Targaryen', 'Tyrion-Lannister', 'Arya-Stark', 'Jaime-Lannister']\n",
    "    filtered_cen = {k: deg_cen[k] for k in selected_characters}\n",
    "\n",
    "    # Create a DataFrame\n",
    "    df = pd.DataFrame(filtered_cen, index=[0])\n",
    "\n",
    "    # Add the book number as a column\n",
    "    df['book'] = book_number\n",
    "\n",
    "    return df"
   ]
  }
 ],
 "metadata": {
  "kernelspec": {
   "display_name": "Python 3 (ipykernel)",
   "language": "python",
   "name": "python3"
  },
  "language_info": {
   "codemirror_mode": {
    "name": "ipython",
    "version": 3
   },
   "file_extension": ".py",
   "mimetype": "text/x-python",
   "name": "python",
   "nbconvert_exporter": "python",
   "pygments_lexer": "ipython3",
   "version": "3.9.16"
  }
 },
 "nbformat": 4,
 "nbformat_minor": 5
}
